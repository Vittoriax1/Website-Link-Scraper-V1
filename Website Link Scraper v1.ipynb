{
 "cells": [
  {
   "cell_type": "markdown",
   "id": "fe5072a6-31ab-442f-a0b3-42fd0725d799",
   "metadata": {},
   "source": [
    "This is a simple Python script to scrape links from a website."
   ]
  },
  {
   "cell_type": "code",
   "execution_count": 3,
   "id": "81f42afa-5f26-4128-891c-6a4c7480339c",
   "metadata": {},
   "outputs": [
    {
     "name": "stdin",
     "output_type": "stream",
     "text": [
      "Enter the URL to extract links from:  http://www.arstechnica.com\n"
     ]
    },
    {
     "name": "stdout",
     "output_type": "stream",
     "text": [
      "198 links saved to links.txt\n"
     ]
    }
   ],
   "source": [
    "import requests\n",
    "from bs4 import BeautifulSoup\n",
    "\n",
    "url = input(\"Enter the URL to extract links from: \")\n",
    "headers = {\n",
    "    'User-Agent': 'Mozilla/5.0 (Windows NT 10.0; Win64; x64) AppleWebKit/537.36 (KHTML, like Gecko) Chrome/58.0.3029.110 Safari/537.36'\n",
    "}\n",
    "\n",
    "try:\n",
    "    page = requests.get(url, headers=headers)\n",
    "    soup = BeautifulSoup(page.content, 'html.parser')\n",
    "    links = []\n",
    "    for link in soup.find_all('a'):\n",
    "        if link.get('href'):\n",
    "            href = link.get('href')\n",
    "            if href.startswith('http'):\n",
    "                links.append(href)\n",
    "\n",
    "    with open('links.txt', 'w') as f:\n",
    "        for link in links:\n",
    "            f.write(link + '\\n')\n",
    "    print(f\"{len(links)} links saved to links.txt\")\n",
    "    \n",
    "except requests.exceptions.RequestException as e:\n",
    "    print(\"Error: \", e)\n"
   ]
  },
  {
   "cell_type": "code",
   "execution_count": null,
   "id": "48a11cc8-8e4b-4f86-a59f-db9313d2bd18",
   "metadata": {},
   "outputs": [],
   "source": []
  }
 ],
 "metadata": {
  "kernelspec": {
   "display_name": "Python 3 (ipykernel)",
   "language": "python",
   "name": "python3"
  },
  "language_info": {
   "codemirror_mode": {
    "name": "ipython",
    "version": 3
   },
   "file_extension": ".py",
   "mimetype": "text/x-python",
   "name": "python",
   "nbconvert_exporter": "python",
   "pygments_lexer": "ipython3",
   "version": "3.9.13"
  }
 },
 "nbformat": 4,
 "nbformat_minor": 5
}
